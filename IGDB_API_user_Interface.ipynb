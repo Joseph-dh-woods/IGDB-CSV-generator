{
  "nbformat": 4,
  "nbformat_minor": 0,
  "metadata": {
    "colab": {
      "name": "IGDB API user Interface.ipynb",
      "provenance": [],
      "collapsed_sections": [],
      "mount_file_id": "1WyyFOXj7MQkGU5yX2di1LK23KBljGOmA",
      "authorship_tag": "ABX9TyNGI2UQReC5KqfsEbu0I25N",
      "include_colab_link": true
    },
    "kernelspec": {
      "name": "python3",
      "display_name": "Python 3"
    },
    "language_info": {
      "name": "python"
    }
  },
  "cells": [
    {
      "cell_type": "markdown",
      "metadata": {
        "id": "view-in-github",
        "colab_type": "text"
      },
      "source": [
        "<a href=\"https://colab.research.google.com/github/Joseph-dh-woods/IGDB-CSV-generator/blob/main/IGDB_API_user_Interface.ipynb\" target=\"_parent\"><img src=\"https://colab.research.google.com/assets/colab-badge.svg\" alt=\"Open In Colab\"/></a>"
      ]
    },
    {
      "cell_type": "markdown",
      "source": [
        "Run this cell first to install the IGDB API"
      ],
      "metadata": {
        "id": "5TbAVuIPNtb2"
      }
    },
    {
      "cell_type": "code",
      "source": [
        "pip install igdb-api-v4"
      ],
      "metadata": {
        "id": "mlCn6acaiDpZ",
        "collapsed": true,
        "colab": {
          "base_uri": "https://localhost:8080/"
        },
        "outputId": "02520a8c-9e4d-491e-c07d-1e6c3ebb4f56"
      },
      "execution_count": null,
      "outputs": [
        {
          "output_type": "stream",
          "name": "stdout",
          "text": [
            "Looking in indexes: https://pypi.org/simple, https://us-python.pkg.dev/colab-wheels/public/simple/\n",
            "Requirement already satisfied: igdb-api-v4 in /usr/local/lib/python3.7/dist-packages (0.0.5)\n",
            "Requirement already satisfied: requests in /usr/local/lib/python3.7/dist-packages (from igdb-api-v4) (2.23.0)\n",
            "Requirement already satisfied: protobuf in /usr/local/lib/python3.7/dist-packages (from igdb-api-v4) (3.17.3)\n",
            "Requirement already satisfied: six>=1.9 in /usr/local/lib/python3.7/dist-packages (from protobuf->igdb-api-v4) (1.15.0)\n",
            "Requirement already satisfied: urllib3!=1.25.0,!=1.25.1,<1.26,>=1.21.1 in /usr/local/lib/python3.7/dist-packages (from requests->igdb-api-v4) (1.24.3)\n",
            "Requirement already satisfied: certifi>=2017.4.17 in /usr/local/lib/python3.7/dist-packages (from requests->igdb-api-v4) (2022.5.18.1)\n",
            "Requirement already satisfied: chardet<4,>=3.0.2 in /usr/local/lib/python3.7/dist-packages (from requests->igdb-api-v4) (3.0.4)\n",
            "Requirement already satisfied: idna<3,>=2.5 in /usr/local/lib/python3.7/dist-packages (from requests->igdb-api-v4) (2.10)\n"
          ]
        }
      ]
    },
    {
      "cell_type": "markdown",
      "source": [
        "Run this cell next to set up some required stuff"
      ],
      "metadata": {
        "id": "LKJGVhJrPEeE"
      }
    },
    {
      "cell_type": "code",
      "source": [
        "#@title Imports and Function Definitions\n",
        "import requests\n",
        "from igdb.wrapper import IGDBWrapper\n",
        "import json\n",
        "import time\n",
        "from google.colab import auth\n",
        "import gspread\n",
        "from google.auth import default\n",
        "import pandas as pd\n",
        "import re\n",
        "import datetime\n",
        "from IPython.display import clear_output \n",
        "def makeBar(perc):\n",
        "  barStart = '|\\x1b[42m'\n",
        "  barEnd = '|'\n",
        "  loadEnd = '\\x1b[0m'\n",
        "  barFill = ''\n",
        "  barMid = ''\n",
        "  for _ in range(perc):\n",
        "    barMid += ' '\n",
        "  barWhole = barStart+barMid+loadEnd+barEnd\n",
        "  while (len(barWhole) < 32):\n",
        "    barFill += ' '\n",
        "    barWhole = barStart+barMid+loadEnd+barFill+barEnd\n",
        "  barWhole = barWhole + '\\n' +barWhole\n",
        "  return barWhole\n",
        "def progressBar(num, den):\n",
        "  perc = num/den\n",
        "  perc = perc*100\n",
        "  perc = round(perc/5)\n",
        "  print(makeBar(perc))\n",
        "  print(str((den-num)*5) + \" Seconds left\")\n",
        "def unicodeReplace(found):\n",
        "  found = found.replace('\\\\u0026', '&')\n",
        "  found = found.replace('\\\\u0027', \"'\")\n",
        "  found = found.replace('\\\\u2022', \"•\")\n",
        "  found = found.replace('•', '-')\n",
        "  found = found.replace('\\\"', '\"')\n",
        "  found = found.replace('\\n', ' ')\n",
        "  return found\n",
        "def getID(inGame):\n",
        "  found = re.search('\"id\": (.+?),', inGame).group(1)\n",
        "  return found\n",
        "def getName(inGame):\n",
        "  found = re.search('\"name\": \"(.+?)\"', inGame).group(1)\n",
        "  found = unicodeReplace(found)\n",
        "  return found\n",
        "def getCollection(inGame):\n",
        "  found = re.search('\"collection\": (.+?),', inGame).group(1)\n",
        "  found = found.replace(',', '')\n",
        "  idList = found.split()\n",
        "  found = ''\n",
        "  for numin in idList:\n",
        "    byteArray = wrapper.api_request('collections', 'fields *; where id = ' + str(numin) + ';')\n",
        "    myJson = byteArray.decode('utf8').replace(\"'\", '\"')\n",
        "    myJson = myJson.replace('\\n', ' ')\n",
        "    myJson = ' '.join(myJson.split())\n",
        "    plainTxt = re.search('\"name\": \"(.+?)\"', myJson).group(1)\n",
        "    found = found + plainTxt + ', '\n",
        "  found = found.rstrip()\n",
        "  found = found.strip(',')\n",
        "  found = unicodeReplace(found)\n",
        "  return found\n",
        "def getRelease(inGame):\n",
        "  found = re.search('\"first_release_date\": (.+?),', inGame).group(1)\n",
        "  timestamp = datetime.datetime.fromtimestamp(int(found))\n",
        "  return timestamp.strftime('%Y-%m-%d')\n",
        "def getGenres(inGame):\n",
        "  found = re.search('\"genres\": \\[(.+?)\\]', inGame).group(1)\n",
        "  found = found.replace(',', '')\n",
        "  idList = found.split()\n",
        "  found = ''\n",
        "  for numin in idList:\n",
        "    byteArray = wrapper.api_request('genres', 'fields *; where id = ' + str(numin) + ';')\n",
        "    myJson = byteArray.decode('utf8').replace(\"'\", '\"')\n",
        "    myJson = myJson.replace('\\n', ' ')\n",
        "    myJson = ' '.join(myJson.split())\n",
        "    plainTxt = re.search('\"name\": \"(.+?)\"', myJson).group(1)\n",
        "    found = found + plainTxt + ', '\n",
        "  found = found.rstrip()\n",
        "  found = found.strip(',')\n",
        "  found = unicodeReplace(found)\n",
        "  return found\n",
        "def getThemes(inGame):\n",
        "  found = re.search('\"themes\": \\[(.+?)\\]', inGame).group(1)\n",
        "  found = found.replace(',', '')\n",
        "  idList = found.split()\n",
        "  found = ''\n",
        "  for numin in idList:\n",
        "    byteArray = wrapper.api_request('themes', 'fields *; where id = ' + str(numin) + ';')\n",
        "    myJson = byteArray.decode('utf8').replace(\"'\", '\"')\n",
        "    myJson = myJson.replace('\\n', ' ')\n",
        "    myJson = ' '.join(myJson.split())\n",
        "    plainTxt = re.search('\"name\": \"(.+?)\"', myJson).group(1)\n",
        "    found = found + plainTxt + ', '\n",
        "  found = found.rstrip()\n",
        "  found = found.strip(',')\n",
        "  found = unicodeReplace(found)\n",
        "  return found\n",
        "def getCompanies(inGame):\n",
        "  found = re.search('\"involved_companies\": \\[(.+?)\\]', inGame).group(1)\n",
        "  found = found.replace(',', '')\n",
        "  idList = found.split()\n",
        "  found = ''\n",
        "  for numin in idList:\n",
        "    byteArray = wrapper.api_request('involved_companies', 'fields *; where id = ' + str(numin) + ';')\n",
        "    myJson = byteArray.decode('utf8').replace(\"'\", '\"')\n",
        "    myJson = myJson.replace('\\n', ' ')\n",
        "    myJson = ' '.join(myJson.split())\n",
        "    plainTxt = re.search('\"company\": (.+?),', myJson).group(1)\n",
        "    byteArray2 = wrapper.api_request('companies', 'fields *; where id = ' + str(plainTxt) + ';')\n",
        "    nameByte = byteArray2.decode('utf8').replace(\"'\", '\"')\n",
        "    plainName = re.search('\"name\": \"(.+?)\"', nameByte).group(1)\n",
        "    found = found + plainName\n",
        "    if '\"developer\": true,' in myJson:\n",
        "      found += \"(DEV)\"\n",
        "    if '\"publisher\": true,' in myJson:\n",
        "      found += \"(PUB)\"\n",
        "    if '\"porting\": true,' in myJson:\n",
        "      found += \"(PORT)\"\n",
        "    if '\"supporting\": true,' in myJson:\n",
        "      found += \"(SPRT)\" \n",
        "    found += ', '\n",
        "  found = found.rstrip()\n",
        "  found = found.strip(',')\n",
        "  found = unicodeReplace(found)\n",
        "  return found\n",
        "def getSummary(inGame):\n",
        "  found = re.search('summary\": \"(.+?)\",', inGame).group(1)\n",
        "  found = unicodeReplace(found)\n",
        "  return found\n",
        "def getFranchises(inGame):\n",
        "  found = re.search('franchises\": \\[(.+?)\\]', inGame).group(1)\n",
        "  found = found.replace(',', '')\n",
        "  idList = found.split()\n",
        "  found = ''\n",
        "  for numin in idList:\n",
        "    byteArray = wrapper.api_request('franchises', 'fields *; where id = ' + str(numin) + ';')\n",
        "    myJson = byteArray.decode('utf8').replace(\"'\", '\"')\n",
        "    myJson = myJson.replace('\\n', ' ')\n",
        "    myJson = ' '.join(myJson.split())\n",
        "    plainTxt = re.search('\"name\": \"(.+?)\",', myJson).group(1)\n",
        "    found = found + plainTxt + ', '\n",
        "  found = found.rstrip()\n",
        "  found = found.strip(',')\n",
        "  found = unicodeReplace(found)\n",
        "  return found\n",
        "def getCover(inGame):\n",
        "  byteArray = wrapper.api_request('games', 'fields cover; where id = ' + str(inGame) + ';')\n",
        "  myJson = byteArray.decode('utf8').replace(\"'\", '\"')\n",
        "  if \"cover\" in myJson:\n",
        "    plaintext = re.search('\"cover\": (.+?)\\n', myJson).group(1)\n",
        "    byteArray = wrapper.api_request('covers', 'fields *; where id = ' + str(plaintext) + ';')\n",
        "    myJson = byteArray.decode('utf8').replace(\"'\", '\"')\n",
        "    plaintext = re.search('\"image_id\": \"(.+?)\"', myJson).group(1)\n",
        "    found = \"https://images.igdb.com/igdb/image/upload/t_cover_big/\" + plaintext + \".png\"\n",
        "    return found\n",
        "  else:\n",
        "    return \"no Cover found\"\n",
        "def makeItem(jason):\n",
        "  temp = ['','','','','','','','','','']\n",
        "  game = jason.replace('\\n', ' ')\n",
        "  game = ' '.join(jason.split())\n",
        "  if '\"id\"' in game:\n",
        "    temp[0] = getID(game)\n",
        "  if '\"name\"' in game:\n",
        "    temp[1] = getName(game)\n",
        "    print(\"adding \" + temp[1])\n",
        "  if '\"collection\"' in game:\n",
        "    temp[2] = getCollection(game)\n",
        "  if '\"first_release_date\"' in game:\n",
        "    temp[3] = getRelease(game)\n",
        "  if '\"genres\"' in game:\n",
        "    temp[4] = getGenres(game)\n",
        "    time.sleep(.01)\n",
        "  if \"themes\" in game:\n",
        "    temp[5] = getThemes(game)\n",
        "    time.sleep(.01)\n",
        "  if '\"involved_companies\"' in game:\n",
        "    temp[6] = getCompanies(game)\n",
        "    time.sleep(.01)\n",
        "  if '\"summary\"' in game:\n",
        "    temp[7]= getSummary(game)\n",
        "  if '\"franchises\"' in game:\n",
        "    temp[8] = getFranchises(game)\n",
        "    time.sleep(.01)\n",
        "  if '\"cover\"' in game:\n",
        "    temp[9] = getCover(temp[0])\n",
        "    time.sleep(.01)\n",
        "  return temp"
      ],
      "metadata": {
        "id": "DlBMH8PRpMCt",
        "cellView": "form"
      },
      "execution_count": null,
      "outputs": []
    },
    {
      "cell_type": "markdown",
      "source": [
        "Enter YOUR id and secret gotten from the Twitch developer page.\n",
        "\n",
        "If you don't know what this means, or don't have these go here \n",
        "\n",
        "https://api-docs.igdb.com/#about \n",
        "\n",
        "and follow the create account sections\n",
        "\n",
        "!!THIS SECTION MUST BE RUN EVERYTIME YOU CREATE A NEW LIST"
      ],
      "metadata": {
        "id": "LfmQUK_BPJ5V"
      }
    },
    {
      "cell_type": "code",
      "source": [
        "#@title Authorization\n",
        "auth.authenticate_user()\n",
        "creds, _ = default()\n",
        "gc = gspread.authorize(creds)\n",
        "worksheet = gc.open('ID_INPUT').sheet1\n",
        "IDlist = []\n",
        "addedGames = []\n",
        "# get_all_values gives a list of rows.\n",
        "rows = worksheet.get_all_values()\n",
        "for x in rows:\n",
        "  IDlist.append(x[0])\n",
        "  addedGames.append(x[1])\n",
        "clientID = \"p4drjdnuirwnzc9i1rs74fv8sdhtbi\" #@param {type:\"string\"}\n",
        "clientSecret = \"anz0yqx9ppk7k649a1j80qclr9n1zv\" #@param {type:\"string\"}\n",
        "requestURL = \"https://id.twitch.tv/oauth2/token?client_id=\" + clientID + \"&client_secret=\" + clientSecret + \"&grant_type=client_credentials\"\n",
        "getToken = requests.post(requestURL)\n",
        "s = getToken.text\n",
        "sI = s.split(\"\\\"\")\n",
        "accessToken = sI[3]\n",
        "accessID = clientID\n",
        "wrapper = IGDBWrapper(accessID, accessToken)"
      ],
      "metadata": {
        "id": "HQuGbNWQsvRb",
        "cellView": "form"
      },
      "execution_count": null,
      "outputs": []
    },
    {
      "cell_type": "markdown",
      "source": [
        "Search by title and select which games you want to add from a list using the number on the left (you can include multiple games each search just type in all the numbers you want to add at once, so to add 1, 2, and 5, type 125)\n",
        "\n",
        "This section is optional, if you filled the A column of ID_INPUT with IDs yourself just skip this"
      ],
      "metadata": {
        "id": "ClTEKyiNP71r"
      }
    },
    {
      "cell_type": "code",
      "source": [
        "#@title Add ID directly\n",
        "ID = 117019 #@param {type:\"number\"}\n",
        "clear_output()\n",
        "print(\"Added games So Far:\")\n",
        "print(addedGames)\n",
        "byteArray = wrapper.api_request('games', 'fields name; where id = ' + str(ID) + ';')\n",
        "myJson = byteArray.decode('utf8').replace(\"'\", '\"')\n",
        "if(myJson != '[]'):\n",
        "  results = myJson.split('{')\n",
        "  results.pop(0)\n",
        "  resultsList = []\n",
        "  for _ in results:\n",
        "    tmp = ['', '']\n",
        "    tmp[0] = getID(_)\n",
        "    tmp[1] = getName(_)\n",
        "    resultsList.append(tmp)\n",
        "\n",
        "  for _ in resultsList:\n",
        "    print(\"Added : \" + str(_[1]) + '(' + str(_[0]) + ')')\n",
        "    IDlist.append(_[0])\n",
        "    addedGames.append(_[1])\n",
        "\n",
        "  rangeCall = 'A1' + ':A' + str(len(IDlist))\n",
        "  cell_list = worksheet.range(rangeCall)\n",
        "  numin = 0\n",
        "  for cell in cell_list:\n",
        "    cell.value = IDlist[numin]\n",
        "    numin += 1\n",
        "  worksheet.update_cells(cell_list)\n",
        "\n",
        "  rangeCall = 'B1' + ':B' + str(len(addedGames))\n",
        "  cell_list = worksheet.range(rangeCall)\n",
        "  numin = 0\n",
        "  for cell in cell_list:\n",
        "    cell.value = addedGames[numin]\n",
        "    numin += 1\n",
        "  worksheet.update_cells(cell_list)\n",
        "else:\n",
        "  print(\"No game found\")\n"
      ],
      "metadata": {
        "colab": {
          "base_uri": "https://localhost:8080/"
        },
        "cellView": "form",
        "id": "NFarI-9D7T3c",
        "outputId": "c267379c-05d4-4d74-ff80-3c447de0167d"
      },
      "execution_count": null,
      "outputs": [
        {
          "output_type": "stream",
          "name": "stdout",
          "text": [
            "Added games So Far:\n",
            "[]\n",
            "Added : Again(117019)\n"
          ]
        }
      ]
    },
    {
      "cell_type": "code",
      "source": [
        "#@title Add IDs to ID_INPUT by searching\n",
        "showCover = \"Don't include Covers (Faster)\" #@param [\"Include Covers (Slower)\", \"Don't include Covers (Faster)\"]\n",
        "cont = 1\n",
        "while cont != 0:\n",
        "  clear_output()\n",
        "  print(\"Added games So Far:\")\n",
        "  print(addedGames)\n",
        "  titleIN = input(\"(enter -1 to finish)\\nTitle: \")\n",
        "  if titleIN == '-1':\n",
        "    cont = 0\n",
        "    break\n",
        "  byteArray = wrapper.api_request('games', 'fields name; limit 9; search \"' + str(titleIN) + '\";')\n",
        "  myJson = byteArray.decode('utf8').replace(\"'\", '\"')\n",
        "  results = myJson.split('{')\n",
        "  results.pop(0)\n",
        "  resultsList = []\n",
        "  for _ in results:\n",
        "    tmp = ['', '']\n",
        "    tmp[0] = getID(_)\n",
        "    tmp[1] = getName(_)\n",
        "    resultsList.append(tmp)\n",
        "\n",
        "  for _ in resultsList:\n",
        "    print(str(resultsList.index(_)+1) + ': ' + str(_[1]) + '(' + str(_[0]) + ')')\n",
        "    if showCover == \"Include Covers (Slower)\":\n",
        "      print(getCover(_[0]))\n",
        "  addlist = (input(\"games to add:\"))\n",
        "  addlist = (set(addlist))\n",
        "  cleaned = [ x for x in addlist if x.isdigit() ]\n",
        "  addlist = cleaned\n",
        "\n",
        "  if ('0' in addlist):\n",
        "    continue\n",
        "  for _ in addlist:\n",
        "    IDlist.append(resultsList[int(_)-1][0])\n",
        "    addedGames.append(resultsList[int(_)-1][1])\n",
        "\n",
        "rangeCall = 'A1' + ':A' + str(len(IDlist))\n",
        "cell_list = worksheet.range(rangeCall)\n",
        "numin = 0\n",
        "for cell in cell_list:\n",
        "  cell.value = IDlist[numin]\n",
        "  numin += 1\n",
        "worksheet.update_cells(cell_list)\n",
        "\n",
        "rangeCall = 'B1' + ':B' + str(len(addedGames))\n",
        "cell_list = worksheet.range(rangeCall)\n",
        "numin = 0\n",
        "for cell in cell_list:\n",
        "  cell.value = addedGames[numin]\n",
        "  numin += 1\n",
        "worksheet.update_cells(cell_list)"
      ],
      "metadata": {
        "id": "i4WJoViOpOTR",
        "colab": {
          "base_uri": "https://localhost:8080/"
        },
        "cellView": "form",
        "outputId": "0dc156f5-7dd2-4b00-90a9-2d9e7e350e98"
      },
      "execution_count": null,
      "outputs": [
        {
          "name": "stdout",
          "output_type": "stream",
          "text": [
            "Added games So Far:\n",
            "['Again', 'Ace Attorney Investigations: Miles Edgeworth', 'Apollo Justice: Ace Attorney', 'Brain Age 2: More Training in Minutes a Day!', 'Brain Age: Train Your Brain in Minutes a Day!', 'Elite Beat Agents', 'Fossil Fighters', 'Guitar Hero: On Tour', 'Hotel Dusk: Room 215', 'Kingdom Hearts 358/2 Days', 'Kingdom Hearts Re:coded', 'Lego Rock Band', 'New Super Mario Bros.', 'Nintendogs: Dachshund & Friends', 'Phoenix Wright: Ace Attorney − Trials and Tribulations', 'Phoenix Wright: Ace Attorney − Justice for All', 'Phoenix Wright: Ace Attorney', 'Pokémon Black', 'Pokémon Black Version 2', 'Pokémon Conquest', 'Pokémon Diamond', 'Pokémon HeartGold', 'Pokémon Mystery Dungeon: Blue Rescue Team', 'Pokémon Platinum', 'Professor Layton and the Diabolical Box', 'Professor Layton and the Curious Village', 'Professor Layton and the Unwound Future', 'Professor Layton and the Last Specter', 'Rhythm Heaven', 'Rock Band 3', 'Spectrobes', 'Spectrobes: Beyond the Portals', 'Super Mario 64 DS', 'The Legend of Zelda: Phantom Hourglass', 'The Legend of Zelda: Spirit Tracks', 'Time Ace', \"Tony Hawk's American Sk8land\", 'Touch Detective', 'Touch Detective 2 1/2', 'Time Ace', 'Another Code: Two Memories', 'Wario: Master of Disguise']\n",
            "(enter -1 to finish)\n",
            "Title: -1\n"
          ]
        },
        {
          "output_type": "execute_result",
          "data": {
            "text/plain": [
              "{'spreadsheetId': '1EIuO_yd6lYaU8NeJnEugpHNmKPi3C_lOmzBy76JIiMU',\n",
              " 'updatedCells': 42,\n",
              " 'updatedColumns': 1,\n",
              " 'updatedRange': 'Sheet1!B1:B42',\n",
              " 'updatedRows': 42}"
            ]
          },
          "metadata": {},
          "execution_count": 13
        }
      ]
    },
    {
      "cell_type": "markdown",
      "source": [
        "When ID_INPUT is filled with the IGDB IDs of the games you want (make sure they are all in column A) run this to fill in the rest of the game information, this takes a while so just let it run, and then go download ID_input, or copy the data to another file, just remember to clear ID_Input when you're done for the next time you want to use this program"
      ],
      "metadata": {
        "id": "WDxCHPaIQYXs"
      }
    },
    {
      "cell_type": "code",
      "source": [
        "#@title Populate ID_INPUT with game information\n",
        "# Make the API call to populate list games from the IDs, then send them to function makeItem for formatting from JSON to csv\n",
        "games = []\n",
        "\n",
        "# refreshes getid and makes sure they are int\n",
        "IDlist = []\n",
        "rows = worksheet.get_all_values()\n",
        "for x in rows:\n",
        "  IDlist.append(int(x[0]))\n",
        "cntr = 1\n",
        "for ID in IDlist:\n",
        "  rq = 'fields name, age_ratings, first_release_date, genres, involved_companies, summary, themes, url, collection, franchises, cover; where id = ' + str(ID) + ';'\n",
        "  byteArray = wrapper.api_request(\n",
        "              'games',\n",
        "              rq\n",
        "            )\n",
        "  myJson = byteArray.decode('utf8').replace(\"'\", '\"')\n",
        "  myJson = unicodeReplace(myJson)\n",
        "  clear_output()\n",
        "  progressBar(cntr, len(IDlist))\n",
        "  cntr+=1\n",
        "  games.append(makeItem(myJson))\n",
        "  time.sleep(.1)\n",
        "\n",
        "#Stores the games in the original sheets file with headers\n",
        "rangeCall = 'A1:I1'\n",
        "cell_list = worksheet.range(rangeCall)\n",
        "headerRow = [\"ID\", \"Title\", \"Series\", \"Initial Release\", \"Genres\", \"Themes\", \"Companies\", \"Summary\", \"Franchise\"]\n",
        "numin = 0\n",
        "for cell in cell_list:\n",
        "  cell.value = headerRow[numin]\n",
        "  numin +=1\n",
        "worksheet.update_cells(cell_list)\n",
        "clear_output()\n",
        "print(\"Creating sheets file\")\n",
        "print(makeBar(21))\n",
        "for _ in games:\n",
        "  rangeCall = 'A' + str(games.index(_)+2) + ':J' + str(games.index(_)+2)\n",
        "  cell_list = worksheet.range(rangeCall)\n",
        "  numin = 0\n",
        "  for cell in cell_list:\n",
        "    cell.value = _[numin]\n",
        "    numin += 1\n",
        "  worksheet.update_cells(cell_list)\n",
        "print(\"Finished\")\n"
      ],
      "metadata": {
        "id": "yDVQu9_2C0bb",
        "colab": {
          "base_uri": "https://localhost:8080/"
        },
        "cellView": "form",
        "outputId": "46df2fd3-fca7-4634-fe2c-d3faf0cac585"
      },
      "execution_count": null,
      "outputs": [
        {
          "output_type": "stream",
          "name": "stdout",
          "text": [
            "Creating sheets file\n",
            "|\u001b[42m                     \u001b[0m|\n",
            "|\u001b[42m                     \u001b[0m|\n",
            "Finished\n"
          ]
        }
      ]
    },
    {
      "cell_type": "markdown",
      "source": [
        "From here you can open ID_INPUT and insert a row at the beggining, and use the formula =IMAGE(_cell_) with cell being the cover url cell add covers to your google sheet"
      ],
      "metadata": {
        "id": "TcdcpWh4YfdQ"
      }
    }
  ]
}